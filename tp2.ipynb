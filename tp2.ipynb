{
 "cells": [
  {
   "cell_type": "code",
   "execution_count": 314,
   "metadata": {},
   "outputs": [],
   "source": [
    "import numpy as np\n",
    "import heapq"
   ]
  },
  {
   "cell_type": "code",
   "execution_count": 315,
   "metadata": {},
   "outputs": [],
   "source": [
    "def computeMinPath(graph, numVertices):\n",
    "  minPath = np.zeros((numVertices, 2))\n",
    "  for i in range(numVertices):\n",
    "    edgeWeights = graph[i]\n",
    "    \n",
    "    minEdge = np.min(edgeWeights)\n",
    "    secondMinEdge = np.partition(edgeWeights, 1)[1]\n",
    "\n",
    "    minPath[i] = [minEdge, secondMinEdge]\n",
    "\n",
    "  return minPath\n",
    "      \n",
    "def getOnePath(graph, numVertices):\n",
    "  path = np.array([0])\n",
    "  cost = 0\n",
    "  for i in range(1, numVertices):\n",
    "    cost += graph[path[-1]][i]\n",
    "    path = np.concatenate([path, [i]]).astype(int)\n",
    "  cost += graph[path[-1]][0]\n",
    "  path = np.concatenate([path, [0]]).astype(int)\n",
    "  return path, cost\n",
    "\n",
    "class Node:\n",
    "  def __init__(self, graph, minPath, prevNode=None, nextVertice=None):\n",
    "    if prevNode is None or nextVertice is None:\n",
    "      self.level = 1\n",
    "      self.path = [0]\n",
    "      self.cost = 0\n",
    "      self.bound = bound(graph, minPath, 0)\n",
    "      return\n",
    "\n",
    "    self.level = prevNode.level + 1\n",
    "    self.path = np.concatenate([prevNode.path, [nextVertice]]).astype(int)\n",
    "    if len(prevNode.path) == 0:\n",
    "      self.cost = 0\n",
    "    else:\n",
    "      self.cost = prevNode.cost + graph[prevNode.path[-1]][nextVertice]\n",
    "    self.bound = bound(graph, minPath, nextVertice, prevNode)\n",
    "\n",
    "  def __lt__(self, other):\n",
    "    return self.bound < other.bound\n",
    "  \n",
    "  def __gt__(self, other):\n",
    "    return self.bound > other.bound\n",
    "  \n",
    "  def __eq__(self, other):\n",
    "    return self.bound == other.bound\n",
    "  \n",
    "  def __str__(self) -> str:\n",
    "    return f\"Path: {self.path} Cost: {self.cost} Bound: {self.bound}\"\n",
    "\n",
    "\n",
    "def bound(graph, minPath, nextVertice, prevNode=None):\n",
    "  if prevNode is None:\n",
    "    return np.sum(minPath) / 2\n",
    "  \n",
    "  cost = graph[prevNode.path[-1]][nextVertice]\n",
    "\n",
    "  bound = prevNode.bound * 2\n",
    "\n",
    "  if cost >= minPath[nextVertice][1]:\n",
    "    bound -= minPath[nextVertice][1]\n",
    "    bound += cost\n",
    "  \n",
    "  if cost >= minPath[prevNode.path[-1]][1]:\n",
    "    bound -= minPath[prevNode.path[-1]][1]\n",
    "    bound += cost\n",
    "\n",
    "  return bound / 2\n"
   ]
  },
  {
   "cell_type": "code",
   "execution_count": 316,
   "metadata": {},
   "outputs": [],
   "source": [
    "def branchAndBoundTSP(graph, numVertices):\n",
    "  minPath = computeMinPath(graph, numVertices)\n",
    "\n",
    "  root = Node(graph, minPath, None, 0)\n",
    "  queue = [root]\n",
    "  heapq.heapify(queue)\n",
    "\n",
    "  solution, best = getOnePath(graph, numVertices)\n",
    "\n",
    "  while queue:\n",
    "    node = heapq.heappop(queue)\n",
    "    \n",
    "    if node.level >= numVertices:\n",
    "      finalNode = Node(graph, minPath, node, 0)\n",
    "      if finalNode.cost < best:\n",
    "        best = finalNode.cost\n",
    "        solution = finalNode.path\n",
    "    \n",
    "    elif node.bound < best:\n",
    "      unvisited = np.setdiff1d(np.arange(numVertices), node.path)\n",
    "      for k in unvisited:\n",
    "        newNode = Node(graph, minPath, node, k)\n",
    "        if newNode.bound < best and graph[node.path[-1]][k] != np.inf:\n",
    "          heapq.heappush(queue, newNode)\n",
    "\n",
    "  return solution, best"
   ]
  },
  {
   "cell_type": "code",
   "execution_count": 317,
   "metadata": {},
   "outputs": [],
   "source": [
    "def generateMST(graph, numVertices):\n",
    "  included = [False] * numVertices\n",
    "  included[0] = True\n",
    "\n",
    "  cost = 0\n",
    "  edges = []\n",
    "  numVisited = 1\n",
    "\n",
    "  while numVisited < numVertices:\n",
    "    minEdge = (float('inf'), None, None) \n",
    "\n",
    "    for i in range(numVertices):\n",
    "      if included[i]:\n",
    "        for j in range(numVertices):\n",
    "          if not included[j] and graph[i][j] < minEdge[0]:\n",
    "            minEdge = (graph[i][j], i, j)\n",
    "\n",
    "    cost, startVertex, endVertex = minEdge\n",
    "    included[endVertex] = True\n",
    "    cost += cost\n",
    "    edges.append((startVertex, endVertex))\n",
    "    numVisited += 1\n",
    "\n",
    "  mstAdjMatrix = np.full((numVertices, numVertices), np.inf)\n",
    "  for edge in edges:\n",
    "    mstAdjMatrix[edge[0]][edge[1]] = mstAdjMatrix[edge[1]][edge[0]] = graph[edge[0]][edge[1]]\n",
    "\n",
    "  return mstAdjMatrix, cost"
   ]
  },
  {
   "cell_type": "code",
   "execution_count": 318,
   "metadata": {},
   "outputs": [],
   "source": [
    "def preorderWalkAux(adjMatrix, startVertex, visited, order):\n",
    "    order.append(startVertex)\n",
    "    visited[startVertex] = True\n",
    "\n",
    "    for neighbor in range(len(adjMatrix)):\n",
    "      if adjMatrix[startVertex][neighbor] != np.inf and not visited[neighbor]:\n",
    "        preorderWalkAux(adjMatrix, neighbor, visited, order)\n",
    "\n",
    "def preorderWalk(adjMatrix, start_vertex=0):\n",
    "    numVertices = len(adjMatrix)\n",
    "    visited = [False] * numVertices\n",
    "    order = []\n",
    "\n",
    "    preorderWalkAux(adjMatrix, start_vertex, visited, order)\n",
    "\n",
    "    return order"
   ]
  },
  {
   "cell_type": "code",
   "execution_count": 319,
   "metadata": {},
   "outputs": [],
   "source": [
    "def approximateTwiceAroundTheTree(graph, numVertices):\n",
    "  mstAdjMatrix, mstCost = generateMST(graph, numVertices)\n",
    "\n",
    "  preorder = preorderWalk(mstAdjMatrix)\n",
    "  tour = preorder + [preorder[0]]\n",
    "\n",
    "  tourCost = sum(graph[tour[i]][tour[i + 1]] for i in range(len(tour) - 1))\n",
    "\n",
    "  return tour, tourCost"
   ]
  },
  {
   "cell_type": "code",
   "execution_count": 320,
   "metadata": {},
   "outputs": [],
   "source": [
    "def findMinimumWeightMatching(mstAdjMatrix, oddVertices):\n",
    "  matchingEdges = set()\n",
    "  matchedRows = set()\n",
    "  matchedCols = set()\n",
    "\n",
    "  for vertex in oddVertices:\n",
    "    minWeight = float('inf')\n",
    "    minCol = None\n",
    "\n",
    "    for col in oddVertices:\n",
    "      if vertex != col and col not in matchedCols and mstAdjMatrix[vertex][col] < minWeight:\n",
    "        minWeight = mstAdjMatrix[vertex][col]\n",
    "        minCol = col\n",
    "\n",
    "    matchingEdges.add((vertex, minCol))\n",
    "    matchedRows.add(vertex)\n",
    "    matchedCols.add(minCol)\n",
    "\n",
    "  return matchingEdges"
   ]
  },
  {
   "cell_type": "code",
   "execution_count": 321,
   "metadata": {},
   "outputs": [],
   "source": [
    "def eulerianCircuit(graph):\n",
    "  circuit = [0]\n",
    "  while True:\n",
    "    neighbors = np.nonzero(graph[circuit[-1]])\n",
    "    unvisited_neighbors = [neighbor for neighbor in neighbors[0] if neighbor not in circuit]\n",
    "    if not unvisited_neighbors:\n",
    "      break\n",
    "    circuit.append(unvisited_neighbors[0])\n",
    "  return circuit"
   ]
  },
  {
   "cell_type": "code",
   "execution_count": 322,
   "metadata": {},
   "outputs": [],
   "source": [
    "def christofides(graph, numVertices):\n",
    "  mstAdjMatrix, mstCost = generateMST(graph, numVertices)\n",
    "\n",
    "  oddVertices = [vertex for vertex, degree in enumerate(np.sum(mstAdjMatrix != np.inf, axis=1)) if degree % 2 != 0]\n",
    "\n",
    "  matchingEdges = findMinimumWeightMatching(mstAdjMatrix, oddVertices)\n",
    "\n",
    "  multigraph = mstAdjMatrix.copy()\n",
    "\n",
    "  for edge in matchingEdges:\n",
    "    if edge[0] < numVertices and edge[1] < numVertices:\n",
    "      multigraph[edge[0]][edge[1]] = multigraph[edge[1]][edge[0]] = graph[edge[0]][edge[1]]\n",
    "\n",
    "\n",
    "  eulerianCircuit = eulerianCircuit(multigraph)\n",
    "\n",
    "  hamiltonianCircuit = list(dict.fromkeys(eulerianCircuit))\n",
    "\n",
    "  # Add the last vertex to complete the circuit\n",
    "  hamiltonianCircuit.append(hamiltonianCircuit[0])\n",
    "\n",
    "  # Calculate the cost of the Hamiltonian circuit\n",
    "  tourCost = sum(graph[hamiltonianCircuit[i]][hamiltonianCircuit[i + 1]] for i in range(len(hamiltonianCircuit) - 1))\n",
    "\n",
    "  return hamiltonianCircuit, tourCost"
   ]
  },
  {
   "cell_type": "code",
   "execution_count": 323,
   "metadata": {},
   "outputs": [
    {
     "name": "stdout",
     "output_type": "stream",
     "text": [
      "Solution: [0 1 3 2 0] Cost: 80\n"
     ]
    }
   ],
   "source": [
    "numVertices = 4\n",
    "graph = np.full((numVertices, numVertices), np.inf)\n",
    "graph = np.array([\n",
    "       [0, 10, 15, 20],\n",
    "       [10, 0, 35, 25],\n",
    "       [15, 35, 0, 30],\n",
    "       [20, 25, 30, 0]\n",
    "       ])\n",
    "solution, best = branchAndBoundTSP(graph, numVertices)\n",
    "\n",
    "print(f\"Solution: {solution} Cost: {best}\")"
   ]
  },
  {
   "cell_type": "code",
   "execution_count": 324,
   "metadata": {},
   "outputs": [
    {
     "name": "stdout",
     "output_type": "stream",
     "text": [
      "(array([[inf, 10., 15., 20.],\n",
      "       [10., inf, inf, inf],\n",
      "       [15., inf, inf, inf],\n",
      "       [20., inf, inf, inf]]), 40)\n",
      "[0, 1, 2, 3]\n",
      "Twice around the tree ([0, 1, 2, 3, 0], 95)\n"
     ]
    }
   ],
   "source": [
    "print(generateMST(graph, numVertices))\n",
    "\n",
    "print(preorderWalk(graph, 0))\n",
    "\n",
    "print(\"Twice around the tree\", approximateTwiceAroundTheTree(graph, numVertices))"
   ]
  },
  {
   "cell_type": "code",
   "execution_count": 325,
   "metadata": {},
   "outputs": [],
   "source": [
    "def preorder_walk(graph, start_vertex, visited):\n",
    "    print(start_vertex, end=\" \")\n",
    "    visited[start_vertex] = True\n",
    "\n",
    "    for neighbor in range(len(graph)):\n",
    "      if graph[start_vertex][neighbor] != np.inf and not visited[neighbor]:\n",
    "        preorder_walk(graph, neighbor, visited)"
   ]
  },
  {
   "cell_type": "code",
   "execution_count": 326,
   "metadata": {},
   "outputs": [],
   "source": [
    "class Point:\n",
    "  def __init__(self, id, x, y):\n",
    "    self.id = id\n",
    "    self.x = x\n",
    "    self.y = y\n",
    "\n",
    "  def distance(self, point):\n",
    "    return np.sqrt((self.x - point.x)**2 + (self.y - point.y)**2)\n",
    "  \n",
    "  def __str__(self) -> str:\n",
    "    return f'Point {self.id} ({self.x}, {self.y})'"
   ]
  },
  {
   "cell_type": "code",
   "execution_count": 327,
   "metadata": {},
   "outputs": [],
   "source": [
    "# function to read a file and return a list of lists\n",
    "def readFile(file_name):\n",
    "    with open(file_name) as f:\n",
    "        content = f.readlines()\n",
    "    content = [x.strip() for x in content if x[0].isdigit()]\n",
    "    return content\n"
   ]
  },
  {
   "cell_type": "code",
   "execution_count": 328,
   "metadata": {},
   "outputs": [
    {
     "name": "stdout",
     "output_type": "stream",
     "text": [
      "Point 0 (565.0, 575.0)\n",
      "Point 1 (25.0, 185.0)\n",
      "Point 2 (345.0, 750.0)\n",
      "Point 3 (945.0, 685.0)\n",
      "Point 4 (845.0, 655.0)\n",
      "Point 5 (880.0, 660.0)\n",
      "Point 6 (25.0, 230.0)\n",
      "Point 7 (525.0, 1000.0)\n",
      "Point 8 (580.0, 1175.0)\n",
      "Point 9 (650.0, 1130.0)\n",
      "Point 10 (1605.0, 620.0)\n",
      "Point 11 (1220.0, 580.0)\n"
     ]
    }
   ],
   "source": [
    "# each element of the content list is a string with the id, x and y coordinates\n",
    "# we need to split each line and create a Point object\n",
    "\n",
    "content = readFile('berlin52.tsp')\n",
    "\n",
    "points = []\n",
    "for line in content:\n",
    "  id, x, y = line.split(' ')\n",
    "  points.append(Point(int(id)-1, float(x), float(y)))\n",
    "\n",
    "for p in points:\n",
    "  print(p)"
   ]
  },
  {
   "cell_type": "code",
   "execution_count": 329,
   "metadata": {},
   "outputs": [],
   "source": [
    "numVertices = len(points)\n",
    "graph = np.full((numVertices, numVertices), np.inf)\n",
    "\n",
    "for p in points:\n",
    "  for q in points:\n",
    "    if p.id != q.id:\n",
    "      graph[p.id][q.id] = p.distance(q)\n"
   ]
  },
  {
   "cell_type": "code",
   "execution_count": 330,
   "metadata": {},
   "outputs": [
    {
     "name": "stdout",
     "output_type": "stream",
     "text": [
      "Branch and bound (array([ 0,  1,  6,  2,  7,  8,  9, 10, 11,  3,  5,  4,  0]), 4056.6809443061275)\n"
     ]
    }
   ],
   "source": [
    "print('Branch and bound', branchAndBoundTSP(graph, numVertices))"
   ]
  },
  {
   "cell_type": "code",
   "execution_count": 331,
   "metadata": {},
   "outputs": [
    {
     "name": "stdout",
     "output_type": "stream",
     "text": [
      "Twice around the tree ([0, 2, 6, 1, 7, 9, 8, 4, 5, 3, 11, 10, 0], 4567.439293000949)\n"
     ]
    }
   ],
   "source": [
    "print(\"Twice around the tree\", approximateTwiceAroundTheTree(graph, numVertices))"
   ]
  },
  {
   "cell_type": "code",
   "execution_count": 332,
   "metadata": {},
   "outputs": [
    {
     "ename": "TypeError",
     "evalue": "'<' not supported between instances of 'NoneType' and 'int'",
     "output_type": "error",
     "traceback": [
      "\u001b[0;31m---------------------------------------------------------------------------\u001b[0m",
      "\u001b[0;31mTypeError\u001b[0m                                 Traceback (most recent call last)",
      "\u001b[1;32m/home/carlos/Algorithms2-TP2/tp2.ipynb Cell 19\u001b[0m line \u001b[0;36m1\n\u001b[0;32m----> <a href='vscode-notebook-cell://wsl%2Bubuntu-20.04/home/carlos/Algorithms2-TP2/tp2.ipynb#X34sdnNjb2RlLXJlbW90ZQ%3D%3D?line=0'>1</a>\u001b[0m \u001b[39mprint\u001b[39m(\u001b[39m\"\u001b[39m\u001b[39mChristofides\u001b[39m\u001b[39m\"\u001b[39m, christofides(graph, numVertices))\n",
      "\u001b[1;32m/home/carlos/Algorithms2-TP2/tp2.ipynb Cell 19\u001b[0m line \u001b[0;36m1\n\u001b[1;32m      <a href='vscode-notebook-cell://wsl%2Bubuntu-20.04/home/carlos/Algorithms2-TP2/tp2.ipynb#X34sdnNjb2RlLXJlbW90ZQ%3D%3D?line=7'>8</a>\u001b[0m multigraph \u001b[39m=\u001b[39m mstAdjMatrix\u001b[39m.\u001b[39mcopy()\n\u001b[1;32m     <a href='vscode-notebook-cell://wsl%2Bubuntu-20.04/home/carlos/Algorithms2-TP2/tp2.ipynb#X34sdnNjb2RlLXJlbW90ZQ%3D%3D?line=9'>10</a>\u001b[0m \u001b[39mfor\u001b[39;00m edge \u001b[39min\u001b[39;00m matchingEdges:\n\u001b[0;32m---> <a href='vscode-notebook-cell://wsl%2Bubuntu-20.04/home/carlos/Algorithms2-TP2/tp2.ipynb#X34sdnNjb2RlLXJlbW90ZQ%3D%3D?line=10'>11</a>\u001b[0m   \u001b[39mif\u001b[39;00m edge[\u001b[39m0\u001b[39m] \u001b[39m<\u001b[39m numVertices \u001b[39mand\u001b[39;00m edge[\u001b[39m1\u001b[39;49m] \u001b[39m<\u001b[39;49m numVertices:\n\u001b[1;32m     <a href='vscode-notebook-cell://wsl%2Bubuntu-20.04/home/carlos/Algorithms2-TP2/tp2.ipynb#X34sdnNjb2RlLXJlbW90ZQ%3D%3D?line=11'>12</a>\u001b[0m     multigraph[edge[\u001b[39m0\u001b[39m]][edge[\u001b[39m1\u001b[39m]] \u001b[39m=\u001b[39m multigraph[edge[\u001b[39m1\u001b[39m]][edge[\u001b[39m0\u001b[39m]] \u001b[39m=\u001b[39m graph[edge[\u001b[39m0\u001b[39m]][edge[\u001b[39m1\u001b[39m]]\n\u001b[1;32m     <a href='vscode-notebook-cell://wsl%2Bubuntu-20.04/home/carlos/Algorithms2-TP2/tp2.ipynb#X34sdnNjb2RlLXJlbW90ZQ%3D%3D?line=14'>15</a>\u001b[0m eulerianCircuit \u001b[39m=\u001b[39m eulerianCircuit(multigraph)\n",
      "\u001b[0;31mTypeError\u001b[0m: '<' not supported between instances of 'NoneType' and 'int'"
     ]
    }
   ],
   "source": [
    "print(\"Christofides\", christofides(graph, numVertices))"
   ]
  }
 ],
 "metadata": {
  "kernelspec": {
   "display_name": "Python 3",
   "language": "python",
   "name": "python3"
  },
  "language_info": {
   "codemirror_mode": {
    "name": "ipython",
    "version": 3
   },
   "file_extension": ".py",
   "mimetype": "text/x-python",
   "name": "python",
   "nbconvert_exporter": "python",
   "pygments_lexer": "ipython3",
   "version": "3.8.10"
  }
 },
 "nbformat": 4,
 "nbformat_minor": 2
}
