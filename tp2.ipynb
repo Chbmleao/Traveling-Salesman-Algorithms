{
 "cells": [
  {
   "cell_type": "code",
   "execution_count": 42,
   "metadata": {},
   "outputs": [],
   "source": [
    "import numpy as np\n",
    "import heapq"
   ]
  },
  {
   "cell_type": "code",
   "execution_count": null,
   "metadata": {},
   "outputs": [],
   "source": []
  },
  {
   "cell_type": "code",
   "execution_count": 43,
   "metadata": {},
   "outputs": [],
   "source": [
    "\n",
    "class Graph:\n",
    "  def __init__(self, numVertices):\n",
    "    self.numVertices = numVertices\n",
    "    self.adjMatrix = np.full((numVertices, numVertices), np.inf)\n",
    "    self.minPaths = np.full((numVertices, 2), np.inf)\n",
    "\n",
    "  def addEdge(self, src, dest, weight):\n",
    "    self.adjMatrix[src][dest] = weight\n",
    "    self.adjMatrix[dest][src] = weight\n",
    "\n",
    "  def getWeight(self, src, dest):\n",
    "    return self.adjMatrix[src][dest]\n",
    "  \n",
    "  def getNumVertices(self):\n",
    "    return self.numVertices\n",
    "  \n",
    "  def printGraph(self):\n",
    "    print(self.adjMatrix)\n",
    "\n",
    "  def getNeighbors(self, vertex):\n",
    "    indices = np.where(self.adjMatrix[vertex] != np.inf)\n",
    "    neighbors = [(i, self.adjMatrix[vertex][i]) for i in indices[0]]\n",
    "    return neighbors\n",
    "  \n",
    "  def computeMinPaths(self):\n",
    "    for i in range(self.numVertices):\n",
    "      sortedIndices = np.argsort(self.adjMatrix[i])\n",
    "      self.minPaths[i] = (self.adjMatrix[i][sortedIndices[0]], self.adjMatrix[i][sortedIndices[1]])\n",
    "\n",
    "class Node:\n",
    "  def __init__(self, graph, prevNode=None, finalVertice=None):\n",
    "    if prevNode is None or finalVertice is None:\n",
    "      self.level = 0\n",
    "      self.path = []\n",
    "      self.cost = 0\n",
    "      self.bound = bound(graph, self.path, self.cost, -1)\n",
    "      return\n",
    "\n",
    "    self.level = prevNode.level + 1\n",
    "    self.path = np.concatenate([prevNode.path, [finalVertice]]).astype(int)\n",
    "    if len(prevNode.path) == 0:\n",
    "      self.cost = 0\n",
    "    else:\n",
    "      self.cost = prevNode.cost + graph.getWeight(prevNode.path[-1], finalVertice)\n",
    "    self.bound = bound(graph, self.path, self.cost, finalVertice)\n",
    "\n",
    "  def __lt__(self, other):\n",
    "    return self.bound < other.bound\n",
    "  \n",
    "  def __gt__(self, other):\n",
    "    return self.bound > other.bound\n",
    "  \n",
    "  def __eq__(self, other):\n",
    "    return self.bound == other.bound\n",
    "  \n",
    "  def __str__(self) -> str:\n",
    "    return f\"Path: {self.path} Cost: {self.cost} Bound: {self.bound}\"\n",
    "\n",
    "\n",
    "def bound(graph, path, cost, finalVertice):\n",
    "  unvisitedContributions = np.sum(graph.minPaths[np.isin(np.arange(graph.getNumVertices()), path) == False, :], axis=1)\n",
    "  if finalVertice != -1:\n",
    "    unvisitedContributions += graph.minPaths[finalVertice][0]\n",
    "  return (cost + np.sum(unvisitedContributions)) / 2\n",
    "\n",
    "def branchBoundTravelingSalesman(graph):\n",
    "    graph.computeMinPaths()\n",
    "\n",
    "    root = Node(graph, Node(graph), 0)\n",
    "    queue = [root]\n",
    "    heapq.heapify(queue)\n",
    "    best = np.inf\n",
    "    solution = []\n",
    "\n",
    "    numVertices = graph.getNumVertices()\n",
    "\n",
    "    while queue:\n",
    "      node = heapq.heappop(queue)\n",
    "      if node.level > numVertices:\n",
    "        if node.cost < best:\n",
    "          best = node.cost\n",
    "          solution = node.path\n",
    "      \n",
    "      elif node.bound < best:\n",
    "        if node.level < numVertices:\n",
    "          for k in range(0, numVertices):\n",
    "            if k not in node.path and graph.getWeight(node.path[-1], k) != np.inf and bound(graph, node.path, node.cost, k) < best:\n",
    "              heapq.heappush(queue, Node(graph, node, k))\n",
    "\n",
    "        elif graph.getWeight(node.path[-1], 0) != np.inf and bound(graph, node.path, node.cost, 0) < best:\n",
    "          heapq.heappush(queue, Node(graph, node, 0))\n",
    "\n",
    "\n",
    "    return solution, best"
   ]
  },
  {
   "cell_type": "code",
   "execution_count": 44,
   "metadata": {},
   "outputs": [
    {
     "name": "stdout",
     "output_type": "stream",
     "text": [
      "[[1. 3.]\n",
      " [3. 6.]\n",
      " [1. 2.]\n",
      " [3. 4.]\n",
      " [2. 3.]]\n",
      "solution (array([0, 2, 4, 3, 1, 0]), 16.0)\n"
     ]
    }
   ],
   "source": [
    "g = Graph(5)\n",
    "g.addEdge(0, 1, 3)\n",
    "g.addEdge(0, 2, 1)\n",
    "g.addEdge(0, 3, 5)\n",
    "g.addEdge(0, 4, 8)\n",
    "g.addEdge(1, 2, 6)\n",
    "g.addEdge(1, 3, 7)\n",
    "g.addEdge(1, 4, 9)\n",
    "g.addEdge(2, 3, 4)\n",
    "g.addEdge(2, 4, 2)\n",
    "g.addEdge(3, 4, 3)\n",
    "\n",
    "# g.printGraph()\n",
    "# print(g.getNeighbors(0))\n",
    "# print(g.getNeighbors(1))\n",
    "# print(g.getNeighbors(2))\n",
    "# print(g.getNeighbors(3))\n",
    "# print(g.getNeighbors(4))\n",
    "\n",
    "g.computeMinPaths()\n",
    "print(g.minPaths)\n",
    "\n",
    "print('solution', branchBoundTravelingSalesman(g))\n"
   ]
  },
  {
   "cell_type": "code",
   "execution_count": 45,
   "metadata": {},
   "outputs": [
    {
     "name": "stdout",
     "output_type": "stream",
     "text": [
      "[[ 0 10 15 20]\n",
      " [10  0 35 25]\n",
      " [15 35  0 30]\n",
      " [20 25 30  0]]\n",
      "[[ 0. 10.]\n",
      " [ 0. 10.]\n",
      " [ 0. 15.]\n",
      " [ 0. 20.]]\n",
      "solution (array([0, 2, 3, 1, 0]), 80)\n"
     ]
    }
   ],
   "source": [
    "g1 = Graph(4)\n",
    "g1.adjMatrix = np.array([[0, 10, 15, 20],\n",
    "       [10, 0, 35, 25],\n",
    "       [15, 35, 0, 30],\n",
    "       [20, 25, 30, 0]])\n",
    "\n",
    "g1.printGraph()\n",
    "g1.computeMinPaths()\n",
    "print(g1.minPaths)\n",
    "\n",
    "print('solution', branchBoundTravelingSalesman(g1))"
   ]
  },
  {
   "cell_type": "code",
   "execution_count": 46,
   "metadata": {},
   "outputs": [
    {
     "ename": "TypeError",
     "evalue": "__init__() takes from 2 to 4 positional arguments but 5 were given",
     "output_type": "error",
     "traceback": [
      "\u001b[0;31m---------------------------------------------------------------------------\u001b[0m",
      "\u001b[0;31mTypeError\u001b[0m                                 Traceback (most recent call last)",
      "\u001b[1;32m/home/carlos/Algorithms2-TP2/tp2.ipynb Cell 5\u001b[0m line \u001b[0;36m1\n\u001b[0;32m----> <a href='vscode-notebook-cell://wsl%2Bubuntu-20.04/home/carlos/Algorithms2-TP2/tp2.ipynb#W3sdnNjb2RlLXJlbW90ZQ%3D%3D?line=0'>1</a>\u001b[0m root \u001b[39m=\u001b[39m Node(g, [], \u001b[39m0\u001b[39;49m, \u001b[39m0\u001b[39;49m)\n\u001b[1;32m      <a href='vscode-notebook-cell://wsl%2Bubuntu-20.04/home/carlos/Algorithms2-TP2/tp2.ipynb#W3sdnNjb2RlLXJlbW90ZQ%3D%3D?line=1'>2</a>\u001b[0m queue \u001b[39m=\u001b[39m [root]\n\u001b[1;32m      <a href='vscode-notebook-cell://wsl%2Bubuntu-20.04/home/carlos/Algorithms2-TP2/tp2.ipynb#W3sdnNjb2RlLXJlbW90ZQ%3D%3D?line=2'>3</a>\u001b[0m heapq\u001b[39m.\u001b[39mheapify(queue)\n",
      "\u001b[0;31mTypeError\u001b[0m: __init__() takes from 2 to 4 positional arguments but 5 were given"
     ]
    }
   ],
   "source": [
    "root = Node(g, [], 0, 0)\n",
    "queue = [root]\n",
    "heapq.heapify(queue)\n",
    "heapq.heappush(queue, Node(g, root.path, root.cost, 1))\n",
    "\n",
    "for el in queue:\n",
    "  print(el)\n"
   ]
  },
  {
   "cell_type": "code",
   "execution_count": null,
   "metadata": {},
   "outputs": [
    {
     "name": "stdout",
     "output_type": "stream",
     "text": [
      "[0, 1, 1, 3, 3, 2, 4, 6, 5, 5, 5, 9]\n"
     ]
    }
   ],
   "source": [
    "import heapq\n",
    "\n",
    "heap = [3, 1, 4, 1, 5, 9, 2, 6, 5, 3, 5]\n",
    "heapq.heapify(heap)\n",
    "heapq.heappush(heap, 0)\n",
    "print(heap)\n"
   ]
  },
  {
   "cell_type": "code",
   "execution_count": null,
   "metadata": {},
   "outputs": [],
   "source": []
  }
 ],
 "metadata": {
  "kernelspec": {
   "display_name": "Python 3",
   "language": "python",
   "name": "python3"
  },
  "language_info": {
   "codemirror_mode": {
    "name": "ipython",
    "version": 3
   },
   "file_extension": ".py",
   "mimetype": "text/x-python",
   "name": "python",
   "nbconvert_exporter": "python",
   "pygments_lexer": "ipython3",
   "version": "3.8.10"
  }
 },
 "nbformat": 4,
 "nbformat_minor": 2
}
