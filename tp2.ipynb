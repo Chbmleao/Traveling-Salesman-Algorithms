{
 "cells": [
  {
   "cell_type": "code",
   "execution_count": 1054,
   "metadata": {},
   "outputs": [],
   "source": [
    "import numpy as np\n",
    "import heapq\n",
    "import math\n",
    "import os"
   ]
  },
  {
   "cell_type": "code",
   "execution_count": 1055,
   "metadata": {},
   "outputs": [],
   "source": [
    "def computeMinPath(graph, numVertices):\n",
    "  minPath = np.zeros((numVertices, 2))\n",
    "  for i in range(numVertices):\n",
    "    edgeWeights = graph[i]\n",
    "    \n",
    "    minEdge = np.min(edgeWeights)\n",
    "    secondMinEdge = np.partition(edgeWeights, 1)[1]\n",
    "\n",
    "    minPath[i] = [minEdge, secondMinEdge]\n",
    "\n",
    "  return minPath\n",
    "      \n",
    "def getOnePath(graph, numVertices):\n",
    "  path = np.array([0])\n",
    "  cost = 0\n",
    "  for i in range(1, numVertices):\n",
    "    cost += graph[path[-1]][i]\n",
    "    path = np.concatenate([path, [i]]).astype(int)\n",
    "  cost += graph[path[-1]][0]\n",
    "  path = np.concatenate([path, [0]]).astype(int)\n",
    "  return path, cost\n",
    "\n",
    "def bound(graph, minPath, nextVertice, prevNode=None):\n",
    "  if prevNode is None:\n",
    "    return np.sum(minPath) / 2\n",
    "  \n",
    "  cost = graph[prevNode.path[-1]][nextVertice]\n",
    "\n",
    "  bound = prevNode.bound * 2\n",
    "\n",
    "  if cost >= minPath[nextVertice][1]:\n",
    "    bound -= minPath[nextVertice][1]\n",
    "    bound += cost\n",
    "  \n",
    "  if cost >= minPath[prevNode.path[-1]][1]:\n",
    "    bound -= minPath[prevNode.path[-1]][1]\n",
    "    bound += cost\n",
    "\n",
    "  return bound / 2\n"
   ]
  },
  {
   "cell_type": "markdown",
   "metadata": {},
   "source": [
    "## Branch and Bound"
   ]
  },
  {
   "cell_type": "code",
   "execution_count": 1056,
   "metadata": {},
   "outputs": [],
   "source": [
    "class Node:\n",
    "  def __init__(self, graph, minPath, prevNode=None, nextVertice=None):\n",
    "    if prevNode is None or nextVertice is None:\n",
    "      self.level = 1\n",
    "      self.path = [0]\n",
    "      self.cost = 0\n",
    "      self.bound = bound(graph, minPath, 0)\n",
    "      return\n",
    "\n",
    "    self.level = prevNode.level + 1\n",
    "    self.path = np.concatenate([prevNode.path, [nextVertice]]).astype(int)\n",
    "    if len(prevNode.path) == 0:\n",
    "      self.cost = 0\n",
    "    else:\n",
    "      self.cost = prevNode.cost + graph[prevNode.path[-1]][nextVertice]\n",
    "    self.bound = bound(graph, minPath, nextVertice, prevNode)\n",
    "\n",
    "  def __lt__(self, other):\n",
    "    return self.bound < other.bound\n",
    "  \n",
    "  def __gt__(self, other):\n",
    "    return self.bound > other.bound\n",
    "  \n",
    "  def __eq__(self, other):\n",
    "    return self.bound == other.bound\n",
    "  \n",
    "  def __str__(self) -> str:\n",
    "    return f\"Path: {self.path} Cost: {self.cost} Bound: {self.bound}\""
   ]
  },
  {
   "cell_type": "code",
   "execution_count": 1057,
   "metadata": {},
   "outputs": [],
   "source": [
    "def branchAndBoundTSP(graph, numVertices):\n",
    "  minPath = computeMinPath(graph, numVertices)\n",
    "\n",
    "  root = Node(graph, minPath, None, 0)\n",
    "  queue = [root]\n",
    "  heapq.heapify(queue)\n",
    "\n",
    "  solution, best = getOnePath(graph, numVertices)\n",
    "\n",
    "  while queue:\n",
    "    node = heapq.heappop(queue)\n",
    "    \n",
    "    if node.level >= numVertices:\n",
    "      finalNode = Node(graph, minPath, node, 0)\n",
    "      if finalNode.cost < best:\n",
    "        best = finalNode.cost\n",
    "        solution = finalNode.path\n",
    "    \n",
    "    elif node.bound < best:\n",
    "      unvisited = np.setdiff1d(np.arange(numVertices), node.path)\n",
    "      for k in unvisited:\n",
    "        newNode = Node(graph, minPath, node, k)\n",
    "        if newNode.bound < best and graph[node.path[-1]][k] != np.inf:\n",
    "          heapq.heappush(queue, newNode)\n",
    "\n",
    "  return solution, best"
   ]
  },
  {
   "cell_type": "markdown",
   "metadata": {},
   "source": [
    "## Twice Around the Tree"
   ]
  },
  {
   "cell_type": "code",
   "execution_count": 1058,
   "metadata": {},
   "outputs": [],
   "source": [
    "def generateMST(graph, numVertices):\n",
    "  included = [False] * numVertices\n",
    "  included[0] = True\n",
    "\n",
    "  cost = 0\n",
    "  edges = []\n",
    "  numVisited = 1\n",
    "\n",
    "  while numVisited < numVertices:\n",
    "    minEdge = (float('inf'), None, None) \n",
    "\n",
    "    for i in range(numVertices):\n",
    "      if included[i]:\n",
    "        for j in range(numVertices):\n",
    "          if not included[j] and graph[i][j] < minEdge[0]:\n",
    "            minEdge = (graph[i][j], i, j)\n",
    "\n",
    "    cost, startVertex, endVertex = minEdge\n",
    "    included[endVertex] = True\n",
    "    cost += cost\n",
    "    edges.append((startVertex, endVertex))\n",
    "    numVisited += 1\n",
    "\n",
    "  mstAdjMatrix = np.full((numVertices, numVertices), np.inf)\n",
    "  for edge in edges:\n",
    "    mstAdjMatrix[edge[0]][edge[1]] = mstAdjMatrix[edge[1]][edge[0]] = graph[edge[0]][edge[1]]\n",
    "\n",
    "  return mstAdjMatrix, cost"
   ]
  },
  {
   "cell_type": "code",
   "execution_count": 1059,
   "metadata": {},
   "outputs": [],
   "source": [
    "def preorderWalkAux(adjMatrix, startVertex, visited, order):\n",
    "  order.append(startVertex)\n",
    "  visited[startVertex] = True\n",
    "\n",
    "  for neighbor in range(len(adjMatrix)):\n",
    "    if adjMatrix[startVertex][neighbor] != np.inf and not visited[neighbor]:\n",
    "      preorderWalkAux(adjMatrix, neighbor, visited, order)\n",
    "\n",
    "def preorderWalk(adjMatrix, start_vertex=0):\n",
    "  numVertices = len(adjMatrix)\n",
    "  visited = [False] * numVertices\n",
    "  order = []\n",
    "\n",
    "  preorderWalkAux(adjMatrix, start_vertex, visited, order)\n",
    "\n",
    "  return order"
   ]
  },
  {
   "cell_type": "code",
   "execution_count": 1060,
   "metadata": {},
   "outputs": [],
   "source": [
    "def approximateTwiceAroundTheTree(graph, numVertices):\n",
    "  mstAdjMatrix, mstCost = generateMST(graph, numVertices)\n",
    "\n",
    "  preorder = preorderWalk(mstAdjMatrix)\n",
    "  tour = preorder + [preorder[0]]\n",
    "\n",
    "  tourCost = sum(graph[tour[i]][tour[i + 1]] for i in range(len(tour) - 1))\n",
    "\n",
    "  return tour, tourCost"
   ]
  },
  {
   "cell_type": "markdown",
   "metadata": {},
   "source": [
    "## Christofides"
   ]
  },
  {
   "cell_type": "code",
   "execution_count": 1061,
   "metadata": {},
   "outputs": [],
   "source": [
    "def findMinimumWeightMatching(graph, oddVertices):\n",
    "  if oddVertices is None:\n",
    "    oddVertices = range(len(graph))\n",
    "\n",
    "  edges = []\n",
    "  for i in oddVertices:\n",
    "    for j in oddVertices:\n",
    "      if i < j and graph[i][j] != np.inf:\n",
    "        edges.append((i, j, graph[i][j]))\n",
    "\n",
    "  edges.sort(key=lambda x: x[2])\n",
    "\n",
    "  matching = []\n",
    "  visited = np.zeros(len(graph), dtype=bool)\n",
    "\n",
    "  for edge in edges:\n",
    "    if not visited[edge[0]] and not visited[edge[1]]:\n",
    "      matching.append((edge[0], edge[1]))\n",
    "      visited[edge[0]] = True\n",
    "      visited[edge[1]] = True\n",
    "\n",
    "  return matching"
   ]
  },
  {
   "cell_type": "code",
   "execution_count": 1062,
   "metadata": {},
   "outputs": [],
   "source": [
    "def getEulerianCircuit(graph):\n",
    "  startVertex = 0  # Choose a starting vertex\n",
    "  numVertices = len(graph)\n",
    "  visited = np.zeros(numVertices, dtype=bool)\n",
    "  tour = []\n",
    "  stack = np.array([startVertex])\n",
    "\n",
    "  while stack.size > 0:\n",
    "    vertex = stack[-1]\n",
    "    if not visited[vertex]:\n",
    "      visited[vertex] = True\n",
    "      tour.append(vertex)\n",
    "    unvisited_neighbors = np.where((graph[vertex] != np.inf) & (~visited))[0]\n",
    "    if unvisited_neighbors.size > 0:\n",
    "      next_vertex = unvisited_neighbors[0]\n",
    "      stack = np.append(stack, next_vertex)\n",
    "    else:\n",
    "      stack = stack[:-1]\n",
    "\n",
    "  return tour"
   ]
  },
  {
   "cell_type": "code",
   "execution_count": 1063,
   "metadata": {},
   "outputs": [],
   "source": [
    "def christofides(graph, numVertices):\n",
    "  mstAdjMatrix, mstCost = generateMST(graph, numVertices)\n",
    "\n",
    "  oddVertices = [vertex for vertex, degree in enumerate(np.sum(mstAdjMatrix != np.inf, axis=1)) if degree % 2 != 0]\n",
    "\n",
    "  matchingEdges = findMinimumWeightMatching(graph, oddVertices)\n",
    "\n",
    "  multigraph = mstAdjMatrix.copy()\n",
    "  for edge in matchingEdges:\n",
    "    multigraph[edge[0]][edge[1]] = multigraph[edge[1]][edge[0]] = graph[edge[0]][edge[1]]\n",
    "\n",
    "  eulerianCircuit = getEulerianCircuit(multigraph)\n",
    "  hamiltonianCircuit = list(dict.fromkeys(eulerianCircuit))\n",
    "  hamiltonianCircuit.append(hamiltonianCircuit[0])\n",
    "\n",
    "  tourCost = sum(graph[hamiltonianCircuit[i]][hamiltonianCircuit[i + 1]] for i in range(len(hamiltonianCircuit) - 1))\n",
    "\n",
    "  return hamiltonianCircuit, tourCost"
   ]
  },
  {
   "cell_type": "markdown",
   "metadata": {},
   "source": [
    "## Reading input files"
   ]
  },
  {
   "cell_type": "code",
   "execution_count": 1064,
   "metadata": {},
   "outputs": [],
   "source": [
    "def readCoordinatesFromFile(filename):\n",
    "  coordinates = []\n",
    "\n",
    "  with open(filename, 'r') as file:\n",
    "    for line in file:\n",
    "      if \"NODE_COORD_SECTION\" in line:\n",
    "        break\n",
    "\n",
    "    for line in file:\n",
    "      if line.strip() == \"EOF\":\n",
    "        break\n",
    "      id, x, y = map(float, line.split())\n",
    "      coordinates.append((int(id)-1, x, y))\n",
    "\n",
    "  return coordinates\n",
    "\n",
    "def calculateEuclideanDistance(point1, point2):\n",
    "    x1, y1 = point1[1], point1[2]\n",
    "    x2, y2 = point2[1], point2[2]\n",
    "    return math.sqrt((x2 - x1)**2 + (y2 - y1)**2)\n",
    "\n",
    "def getGraphFromFile(filename):\n",
    "    coordinates = readCoordinatesFromFile(filename)\n",
    "    numPoints = len(coordinates)\n",
    "\n",
    "    graph = np.full((numPoints, numPoints), np.inf)\n",
    "\n",
    "    for i in range(numPoints):\n",
    "      for j in range(i+1, numPoints):\n",
    "        distance = calculateEuclideanDistance(coordinates[i], coordinates[j])\n",
    "        graph[coordinates[i][0]][coordinates[j][0]] = graph[coordinates[j][0]][coordinates[i][0]] = distance\n",
    "\n",
    "    return graph"
   ]
  },
  {
   "cell_type": "code",
   "execution_count": 1065,
   "metadata": {},
   "outputs": [],
   "source": [
    "def getFilesInFolder(folderPath):\n",
    "  return [os.path.join(folderPath, file) for file in os.listdir(folderPath) if os.path.isfile(os.path.join(folderPath, file))]\n",
    "\n",
    "files = getFilesInFolder(\"data\")"
   ]
  },
  {
   "cell_type": "markdown",
   "metadata": {},
   "source": [
    "## Testing"
   ]
  },
  {
   "cell_type": "code",
   "execution_count": 1066,
   "metadata": {},
   "outputs": [
    {
     "name": "stdout",
     "output_type": "stream",
     "text": [
      "Solution: [0 1 3 2 0] Cost: 80\n"
     ]
    }
   ],
   "source": [
    "numVertices = 4\n",
    "graph = np.full((numVertices, numVertices), np.inf)\n",
    "graph = np.array([\n",
    "       [0, 10, 15, 20],\n",
    "       [10, 0, 35, 25],\n",
    "       [15, 35, 0, 30],\n",
    "       [20, 25, 30, 0]\n",
    "       ])\n",
    "solution, best = branchAndBoundTSP(graph, numVertices)\n",
    "\n",
    "print(f\"Solution: {solution} Cost: {best}\")"
   ]
  },
  {
   "cell_type": "code",
   "execution_count": 1067,
   "metadata": {},
   "outputs": [
    {
     "name": "stdout",
     "output_type": "stream",
     "text": [
      "Solution Twice Around the Tree: [0, 62, 5, 48, 89, 9, 71, 20, 73, 10, 14, 16, 31, 46, 90, 44, 97, 22, 59, 61, 85, 26, 11, 19, 56, 6, 8, 86, 50, 60, 24, 80, 68, 63, 39, 53, 72, 49, 43, 1, 67, 84, 38, 29, 95, 77, 4, 36, 32, 12, 94, 81, 75, 51, 57, 27, 66, 92, 54, 82, 33, 28, 45, 2, 13, 70, 40, 99, 47, 42, 34, 76, 58, 83, 91, 7, 41, 88, 30, 79, 55, 96, 3, 64, 25, 65, 74, 18, 52, 78, 17, 23, 37, 35, 98, 87, 15, 21, 69, 93, 0] Cost: 30516.94176196444\n",
      "Solution Christofides: [0, 62, 5, 48, 89, 9, 71, 20, 73, 10, 14, 16, 31, 46, 90, 44, 97, 22, 59, 61, 85, 26, 11, 19, 56, 6, 8, 86, 50, 60, 24, 80, 68, 63, 39, 53, 1, 43, 49, 72, 67, 84, 38, 29, 95, 77, 4, 36, 32, 12, 94, 81, 98, 35, 37, 23, 17, 78, 52, 18, 74, 96, 3, 64, 25, 65, 55, 79, 30, 88, 41, 7, 91, 69, 21, 15, 87, 93, 75, 51, 57, 27, 66, 92, 47, 99, 70, 13, 2, 42, 45, 28, 33, 82, 54, 40, 34, 76, 58, 83, 0] Cost: 37552.46971977364\n",
      "\n",
      "\n",
      "Solution Twice Around the Tree: [0, 7, 21, 3, 17, 16, 1, 2, 15, 12, 11, 6, 5, 18, 9, 8, 10, 19, 20, 13, 14, 4, 0] Cost: 88.04848334468727\n",
      "Solution Christofides: [0, 7, 21, 3, 17, 16, 1, 2, 10, 8, 9, 18, 6, 5, 11, 12, 4, 14, 13, 15, 19, 20, 0] Cost: 98.28858285156915\n",
      "\n",
      "\n",
      "Solution Twice Around the Tree: [0, 2, 6, 1, 7, 9, 8, 4, 5, 3, 11, 10, 0] Cost: 4567.439293000949\n",
      "Solution Christofides: [0, 2, 6, 1, 10, 11, 3, 5, 4, 7, 9, 8, 0] Cost: 4696.217486942473\n",
      "\n",
      "\n"
     ]
    }
   ],
   "source": [
    "for file in files:\n",
    "  graph = getGraphFromFile(file)\n",
    "  numVertices = len(graph)\n",
    "  # solution, best = branchAndBoundTSP(graph, numVertices)\n",
    "  # print(f\"Solution Branch and Bound: {solution} Cost: {best}\")\n",
    "\n",
    "  solution, best = approximateTwiceAroundTheTree(graph, numVertices)\n",
    "  print(f\"Solution Twice Around the Tree: {solution} Cost: {best}\")\n",
    "\n",
    "  solution, best = christofides(graph, numVertices)\n",
    "  print(f\"Solution Christofides: {solution} Cost: {best}\")\n",
    "\n",
    "  print(\"\\n\")"
   ]
  }
 ],
 "metadata": {
  "kernelspec": {
   "display_name": "Python 3",
   "language": "python",
   "name": "python3"
  },
  "language_info": {
   "codemirror_mode": {
    "name": "ipython",
    "version": 3
   },
   "file_extension": ".py",
   "mimetype": "text/x-python",
   "name": "python",
   "nbconvert_exporter": "python",
   "pygments_lexer": "ipython3",
   "version": "3.8.10"
  }
 },
 "nbformat": 4,
 "nbformat_minor": 2
}
