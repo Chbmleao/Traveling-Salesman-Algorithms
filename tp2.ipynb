{
 "cells": [
  {
   "cell_type": "code",
   "execution_count": 913,
   "metadata": {},
   "outputs": [],
   "source": [
    "import numpy as np\n",
    "import heapq"
   ]
  },
  {
   "cell_type": "code",
   "execution_count": 914,
   "metadata": {},
   "outputs": [],
   "source": [
    "def computeMinPath(graph, numVertices):\n",
    "  minPath = np.zeros((numVertices, 2))\n",
    "  for i in range(numVertices):\n",
    "    edgeWeights = graph[i]\n",
    "    \n",
    "    minEdge = np.min(edgeWeights)\n",
    "    secondMinEdge = np.partition(edgeWeights, 1)[1]\n",
    "\n",
    "    minPath[i] = [minEdge, secondMinEdge]\n",
    "\n",
    "  return minPath\n",
    "      \n",
    "def getOnePath(graph, numVertices):\n",
    "  path = np.array([0])\n",
    "  cost = 0\n",
    "  for i in range(1, numVertices):\n",
    "    cost += graph[path[-1]][i]\n",
    "    path = np.concatenate([path, [i]]).astype(int)\n",
    "  cost += graph[path[-1]][0]\n",
    "  path = np.concatenate([path, [0]]).astype(int)\n",
    "  return path, cost\n",
    "\n",
    "class Node:\n",
    "  def __init__(self, graph, minPath, prevNode=None, nextVertice=None):\n",
    "    if prevNode is None or nextVertice is None:\n",
    "      self.level = 1\n",
    "      self.path = [0]\n",
    "      self.cost = 0\n",
    "      self.bound = bound(graph, minPath, 0)\n",
    "      return\n",
    "\n",
    "    self.level = prevNode.level + 1\n",
    "    self.path = np.concatenate([prevNode.path, [nextVertice]]).astype(int)\n",
    "    if len(prevNode.path) == 0:\n",
    "      self.cost = 0\n",
    "    else:\n",
    "      self.cost = prevNode.cost + graph[prevNode.path[-1]][nextVertice]\n",
    "    self.bound = bound(graph, minPath, nextVertice, prevNode)\n",
    "\n",
    "  def __lt__(self, other):\n",
    "    return self.bound < other.bound\n",
    "  \n",
    "  def __gt__(self, other):\n",
    "    return self.bound > other.bound\n",
    "  \n",
    "  def __eq__(self, other):\n",
    "    return self.bound == other.bound\n",
    "  \n",
    "  def __str__(self) -> str:\n",
    "    return f\"Path: {self.path} Cost: {self.cost} Bound: {self.bound}\"\n",
    "\n",
    "\n",
    "def bound(graph, minPath, nextVertice, prevNode=None):\n",
    "  if prevNode is None:\n",
    "    return np.sum(minPath) / 2\n",
    "  \n",
    "  cost = graph[prevNode.path[-1]][nextVertice]\n",
    "\n",
    "  bound = prevNode.bound * 2\n",
    "\n",
    "  if cost >= minPath[nextVertice][1]:\n",
    "    bound -= minPath[nextVertice][1]\n",
    "    bound += cost\n",
    "  \n",
    "  if cost >= minPath[prevNode.path[-1]][1]:\n",
    "    bound -= minPath[prevNode.path[-1]][1]\n",
    "    bound += cost\n",
    "\n",
    "  return bound / 2\n"
   ]
  },
  {
   "cell_type": "code",
   "execution_count": 915,
   "metadata": {},
   "outputs": [],
   "source": [
    "def branchAndBoundTSP(graph, numVertices):\n",
    "  minPath = computeMinPath(graph, numVertices)\n",
    "\n",
    "  root = Node(graph, minPath, None, 0)\n",
    "  queue = [root]\n",
    "  heapq.heapify(queue)\n",
    "\n",
    "  solution, best = getOnePath(graph, numVertices)\n",
    "\n",
    "  while queue:\n",
    "    node = heapq.heappop(queue)\n",
    "    \n",
    "    if node.level >= numVertices:\n",
    "      finalNode = Node(graph, minPath, node, 0)\n",
    "      if finalNode.cost < best:\n",
    "        best = finalNode.cost\n",
    "        solution = finalNode.path\n",
    "    \n",
    "    elif node.bound < best:\n",
    "      unvisited = np.setdiff1d(np.arange(numVertices), node.path)\n",
    "      for k in unvisited:\n",
    "        newNode = Node(graph, minPath, node, k)\n",
    "        if newNode.bound < best and graph[node.path[-1]][k] != np.inf:\n",
    "          heapq.heappush(queue, newNode)\n",
    "\n",
    "  return solution, best"
   ]
  },
  {
   "cell_type": "code",
   "execution_count": 916,
   "metadata": {},
   "outputs": [],
   "source": [
    "def generateMST(graph, numVertices):\n",
    "  included = [False] * numVertices\n",
    "  included[0] = True\n",
    "\n",
    "  cost = 0\n",
    "  edges = []\n",
    "  numVisited = 1\n",
    "\n",
    "  while numVisited < numVertices:\n",
    "    minEdge = (float('inf'), None, None) \n",
    "\n",
    "    for i in range(numVertices):\n",
    "      if included[i]:\n",
    "        for j in range(numVertices):\n",
    "          if not included[j] and graph[i][j] < minEdge[0]:\n",
    "            minEdge = (graph[i][j], i, j)\n",
    "\n",
    "    cost, startVertex, endVertex = minEdge\n",
    "    included[endVertex] = True\n",
    "    cost += cost\n",
    "    edges.append((startVertex, endVertex))\n",
    "    numVisited += 1\n",
    "\n",
    "  mstAdjMatrix = np.full((numVertices, numVertices), np.inf)\n",
    "  for edge in edges:\n",
    "    mstAdjMatrix[edge[0]][edge[1]] = mstAdjMatrix[edge[1]][edge[0]] = graph[edge[0]][edge[1]]\n",
    "\n",
    "  return mstAdjMatrix, cost"
   ]
  },
  {
   "cell_type": "code",
   "execution_count": 917,
   "metadata": {},
   "outputs": [],
   "source": [
    "def preorderWalkAux(adjMatrix, startVertex, visited, order):\n",
    "  order.append(startVertex)\n",
    "  visited[startVertex] = True\n",
    "\n",
    "  for neighbor in range(len(adjMatrix)):\n",
    "    if adjMatrix[startVertex][neighbor] != np.inf and not visited[neighbor]:\n",
    "      preorderWalkAux(adjMatrix, neighbor, visited, order)\n",
    "\n",
    "def preorderWalk(adjMatrix, start_vertex=0):\n",
    "  numVertices = len(adjMatrix)\n",
    "  visited = [False] * numVertices\n",
    "  order = []\n",
    "\n",
    "  preorderWalkAux(adjMatrix, start_vertex, visited, order)\n",
    "\n",
    "  return order"
   ]
  },
  {
   "cell_type": "code",
   "execution_count": 918,
   "metadata": {},
   "outputs": [],
   "source": [
    "def approximateTwiceAroundTheTree(graph, numVertices):\n",
    "  mstAdjMatrix, mstCost = generateMST(graph, numVertices)\n",
    "\n",
    "  preorder = preorderWalk(mstAdjMatrix)\n",
    "  tour = preorder + [preorder[0]]\n",
    "\n",
    "  tourCost = sum(graph[tour[i]][tour[i + 1]] for i in range(len(tour) - 1))\n",
    "\n",
    "  return tour, tourCost"
   ]
  },
  {
   "cell_type": "code",
   "execution_count": 919,
   "metadata": {},
   "outputs": [],
   "source": [
    "def findMinimumWeightMatching(graph, oddVertices):\n",
    "  if oddVertices is None:\n",
    "    oddVertices = range(len(graph))\n",
    "\n",
    "  edges = []\n",
    "  for i in oddVertices:\n",
    "    for j in oddVertices:\n",
    "      if i < j and graph[i][j] != np.inf:\n",
    "        edges.append((i, j, graph[i][j]))\n",
    "\n",
    "  edges.sort(key=lambda x: x[2])\n",
    "\n",
    "  matching = []\n",
    "  visited = np.zeros(len(graph), dtype=bool)\n",
    "\n",
    "  for edge in edges:\n",
    "    if not visited[edge[0]] and not visited[edge[1]]:\n",
    "      matching.append((edge[0], edge[1]))\n",
    "      visited[edge[0]] = True\n",
    "      visited[edge[1]] = True\n",
    "\n",
    "  return matching"
   ]
  },
  {
   "cell_type": "code",
   "execution_count": 920,
   "metadata": {},
   "outputs": [],
   "source": [
    "def getEulerianCircuit(graph):\n",
    "  startVertex = 0  # Choose a starting vertex\n",
    "  numVertices = len(graph)\n",
    "  visited = np.zeros(numVertices, dtype=bool)\n",
    "  tour = []\n",
    "  stack = np.array([startVertex])\n",
    "\n",
    "  while stack.size > 0:\n",
    "    vertex = stack[-1]\n",
    "    if not visited[vertex]:\n",
    "      visited[vertex] = True\n",
    "      tour.append(vertex)\n",
    "    unvisited_neighbors = np.where((graph[vertex] != np.inf) & (~visited))[0]\n",
    "    if unvisited_neighbors.size > 0:\n",
    "      next_vertex = unvisited_neighbors[0]\n",
    "      stack = np.append(stack, next_vertex)\n",
    "    else:\n",
    "      stack = stack[:-1]\n",
    "\n",
    "  return tour"
   ]
  },
  {
   "cell_type": "code",
   "execution_count": 921,
   "metadata": {},
   "outputs": [],
   "source": [
    "def christofides(graph, numVertices):\n",
    "  mstAdjMatrix, mstCost = generateMST(graph, numVertices)\n",
    "\n",
    "  oddVertices = [vertex for vertex, degree in enumerate(np.sum(mstAdjMatrix != np.inf, axis=1)) if degree % 2 != 0]\n",
    "\n",
    "  matchingEdges = findMinimumWeightMatching(graph, oddVertices)\n",
    "\n",
    "  multigraph = mstAdjMatrix.copy()\n",
    "  for edge in matchingEdges:\n",
    "    multigraph[edge[0]][edge[1]] = multigraph[edge[1]][edge[0]] = graph[edge[0]][edge[1]]\n",
    "\n",
    "  eulerianCircuit = getEulerianCircuit(multigraph)\n",
    "  hamiltonianCircuit = list(dict.fromkeys(eulerianCircuit))\n",
    "  hamiltonianCircuit.append(hamiltonianCircuit[0])\n",
    "\n",
    "  tourCost = sum(graph[hamiltonianCircuit[i]][hamiltonianCircuit[i + 1]] for i in range(len(hamiltonianCircuit) - 1))\n",
    "\n",
    "  return hamiltonianCircuit, tourCost"
   ]
  },
  {
   "cell_type": "code",
   "execution_count": 922,
   "metadata": {},
   "outputs": [
    {
     "name": "stdout",
     "output_type": "stream",
     "text": [
      "Solution: [0 1 3 2 0] Cost: 80\n"
     ]
    }
   ],
   "source": [
    "numVertices = 4\n",
    "graph = np.full((numVertices, numVertices), np.inf)\n",
    "graph = np.array([\n",
    "       [0, 10, 15, 20],\n",
    "       [10, 0, 35, 25],\n",
    "       [15, 35, 0, 30],\n",
    "       [20, 25, 30, 0]\n",
    "       ])\n",
    "solution, best = branchAndBoundTSP(graph, numVertices)\n",
    "\n",
    "print(f\"Solution: {solution} Cost: {best}\")"
   ]
  },
  {
   "cell_type": "code",
   "execution_count": 923,
   "metadata": {},
   "outputs": [
    {
     "data": {
      "text/plain": [
       "([0, 1, 2, 3, 0], 95)"
      ]
     },
     "execution_count": 923,
     "metadata": {},
     "output_type": "execute_result"
    }
   ],
   "source": [
    "christofides(graph, numVertices)"
   ]
  },
  {
   "cell_type": "code",
   "execution_count": 924,
   "metadata": {},
   "outputs": [],
   "source": [
    "def preorder_walk(graph, start_vertex, visited):\n",
    "  print(start_vertex, end=\" \")\n",
    "  visited[start_vertex] = True\n",
    "\n",
    "  for neighbor in range(len(graph)):\n",
    "    if graph[start_vertex][neighbor] != np.inf and not visited[neighbor]:\n",
    "      preorder_walk(graph, neighbor, visited)"
   ]
  },
  {
   "cell_type": "code",
   "execution_count": 925,
   "metadata": {},
   "outputs": [],
   "source": [
    "class Point:\n",
    "  def __init__(self, id, x, y):\n",
    "    self.id = id\n",
    "    self.x = x\n",
    "    self.y = y\n",
    "\n",
    "  def distance(self, point):\n",
    "    return np.sqrt((self.x - point.x)**2 + (self.y - point.y)**2)\n",
    "  \n",
    "  def __str__(self) -> str:\n",
    "    return f'Point {self.id} ({self.x}, {self.y})'"
   ]
  },
  {
   "cell_type": "code",
   "execution_count": 926,
   "metadata": {},
   "outputs": [],
   "source": [
    "def readFile(file_name):\n",
    "    with open(file_name) as f:\n",
    "        content = f.readlines()\n",
    "    content = [x.strip() for x in content if x[0].isdigit()]\n",
    "    return content\n"
   ]
  },
  {
   "cell_type": "code",
   "execution_count": 927,
   "metadata": {},
   "outputs": [],
   "source": [
    "content = readFile('ulysses22.tsp')\n",
    "\n",
    "points = []\n",
    "for line in content:\n",
    "  id, x, y = line.split(' ')\n",
    "  points.append(Point(int(id)-1, float(x), float(y)))"
   ]
  },
  {
   "cell_type": "code",
   "execution_count": 928,
   "metadata": {},
   "outputs": [
    {
     "name": "stdout",
     "output_type": "stream",
     "text": [
      "[[        inf  5.88232947  5.42147581  3.34819354 10.96685917  8.25804456\n",
      "   7.31221581  0.72027772 11.70822361  7.9310655  25.7208573   5.29499764\n",
      "   5.07079875  5.30050941  6.6912256   1.41209065  3.9428543   3.35840736\n",
      "   7.19461604  6.60916031  6.54622028  2.24243172]\n",
      " [ 5.88232947         inf  1.29189783  4.48742688 16.75590045 14.10396044\n",
      "  13.09061114  6.06684432 17.13061879 13.19734822 31.55360043 11.07476411\n",
      "  10.89295185 11.17157106 12.51380438  6.59334513  2.32260629  4.6939216\n",
      "  12.61004758 12.02404258 11.94681548  4.10951335]\n",
      " [ 5.42147581  1.29189783         inf  4.83011387 16.38825189 13.46836664\n",
      "  12.39611633  5.74943475 16.23383196 12.28515364 30.85694897 10.40212478\n",
      "  10.25714385 10.59834893 12.11217982  5.88367232  2.65        5.03619896\n",
      "  11.75061275 11.1723677  11.09162747  4.06911538]\n",
      " [ 3.34819354  4.48742688  4.83011387         inf 12.88350884 11.00703866\n",
      "  10.2403955   2.96141858 14.87485462 11.20325845 28.33057183  8.29000603\n",
      "   7.99656176  8.04767047  8.83362327  4.72055082  2.21054292  0.20808652\n",
      "  10.42472542  9.85016751  9.79409005  1.4246754 ]\n",
      " [10.96685917 16.75590045 16.38825189 12.88350884         inf  4.40101125\n",
      "   5.56852763 10.69259557  7.8826455   8.08926449 15.96316071  6.77998525\n",
      "   6.70410322  6.1382245   4.28117974 10.76730235 14.56861352 12.73042419\n",
      "   7.59094856  7.74303558  7.81589406 12.69679093]\n",
      " [ 8.25804456 14.10396044 13.46836664 11.00703866  4.40101125         inf\n",
      "   1.25936492  8.25009697  4.79760357  3.71102412 17.46282909  3.07761271\n",
      "   3.21460729  2.98041943  2.97015151  7.58662639 12.18153521 10.90949128\n",
      "   3.19355601  3.39330223  3.47241991 10.37000482]\n",
      " [ 7.31221581 13.09061114 12.39611633 10.2403955   5.56852763  1.25936492\n",
      "          inf  7.3850457   4.89654981  2.75065447 18.46883862  2.02061872\n",
      "   2.25621364  2.25204352  3.17001577  6.51813624 11.25483896 10.16075785\n",
      "   2.07171427  2.17478735  2.24875521  9.4881505 ]\n",
      " [ 0.72027772  6.06684432  5.74943475  2.96141858 10.69259557  8.25009697\n",
      "   7.3850457          inf 11.93145842  8.24224484 25.69038925  5.39431182\n",
      "   5.12884002  5.27000949  6.44789113  2.03960781  3.96122456  2.9323199\n",
      "   7.46480408  6.88913638  6.83275933  2.12058954]\n",
      " [11.70822361 17.13061879 16.23383196 14.87485462  7.8826455   4.79760357\n",
      "   4.89654981 11.93145842         inf  3.95045567 15.2085042   6.63162876\n",
      "   6.96770407  7.11922046  7.75860812 10.62584114 15.57970475 14.81990553\n",
      "   4.53927307  5.12957113  5.2015863  13.94873471]\n",
      " [ 7.9310655  13.19734822 12.28515364 11.20325845  8.08926449  3.71102412\n",
      "   2.75065447  8.24224484  3.95045567         inf 18.95615204  3.40828403\n",
      "   3.79610327  4.2296572   5.82024914  6.75693718 11.72188125 11.17179037\n",
      "   0.89627005  1.38405202  1.42562267 10.16858397]\n",
      " [25.7208573  31.55360043 30.85694897 28.33057183 15.96316071 17.46282909\n",
      "  18.46883862 25.69038925 15.2085042  18.95615204         inf 20.47993408\n",
      "  20.66394202 20.43010768 19.5389099  24.9862222  29.63823544 28.21000177\n",
      "  19.27947095 19.82100149 19.90772965 27.80994426]\n",
      " [ 5.29499764 11.07476411 10.40212478  8.29000603  6.77998525  3.07761271\n",
      "   2.02061872  5.39431182  6.63162876  3.40828403 20.47993408         inf\n",
      "   0.38832976  0.96083297  3.08812241  4.51851746  9.23781901  8.22200097\n",
      "   2.51286689  2.1023796   2.1023796   7.48431026]\n",
      " [ 5.07079875 10.89295185 10.25714385  7.99656176  6.70410322  3.21460729\n",
      "   2.25621364  5.12884002  6.96770407  3.79610327 20.66394202  0.38832976\n",
      "          inf  0.66483081  2.85245508  4.38043377  9.01019978  7.92250592\n",
      "   2.900431    2.48845333  2.48652368  7.23329109]\n",
      " [ 5.30050941 11.17157106 10.59834893  8.04767047  6.1382245   2.98041943\n",
      "   2.25204352  5.27000949  7.11922046  4.2296572  20.43010768  0.96083297\n",
      "   0.66483081         inf  2.19155196  4.76388497  9.20828431  7.95771952\n",
      "   3.33839782  2.99879976  3.01051491  7.39024357]\n",
      " [ 6.6912256  12.51380438 12.11217982  8.83362327  4.28117974  2.97015151\n",
      "   3.17001577  6.44789113  7.75860812  5.82024914 19.5389099   3.08812241\n",
      "   2.85245508  2.19155196         inf  6.51417685 10.37119087  8.70071261\n",
      "   5.00649578  4.84298462  4.88082985  8.49847045]\n",
      " [ 1.41209065  6.59334513  5.88367232  4.72055082 10.76730235  7.58662639\n",
      "   6.51813624  2.03960781 10.62584114  6.75693718 24.9862222   4.51851746\n",
      "   4.38043377  4.76388497  6.51417685         inf  4.96516868  4.74620901\n",
      "   6.08658361  5.49627146  5.42485023  3.4934367 ]\n",
      " [ 3.9428543   2.32260629  2.65        2.21054292 14.56861352 12.18153521\n",
      "  11.25483896  3.96122456 15.57970475 11.72188125 29.63823544  9.23781901\n",
      "   9.01019978  9.20828431 10.37119087  4.96516868         inf  2.41859463\n",
      "  11.04294345 10.45283215 10.38341466  1.87360615]\n",
      " [ 3.35840736  4.6939216   5.03619896  0.20808652 12.73042419 10.90949128\n",
      "  10.16075785  2.9323199  14.81990553 11.17179037 28.21000177  8.22200097\n",
      "   7.92250592  7.95771952  8.70071261  4.74620901  2.41859463         inf\n",
      "  10.38496028  9.81326144  9.75865257  1.54402073]\n",
      " [ 7.19461604 12.61004758 11.75061275 10.42472542  7.59094856  3.19355601\n",
      "   2.07171427  7.46480408  4.53927307  0.89627005 19.27947095  2.51286689\n",
      "   2.900431    3.33839782  5.00649578  6.08658361 11.04294345 10.38496028\n",
      "          inf  0.59033889  0.66370174  9.43700164]\n",
      " [ 6.60916031 12.02404258 11.1723677   9.85016751  7.74303558  3.39330223\n",
      "   2.17478735  6.88913638  5.12957113  1.38405202 19.82100149  2.1023796\n",
      "   2.48845333  2.99879976  4.84298462  5.49627146 10.45283215  9.81326144\n",
      "   0.59033889         inf  0.08944272  8.85131064]\n",
      " [ 6.54622028 11.94681548 11.09162747  9.79409005  7.81589406  3.47241991\n",
      "   2.24875521  6.83275933  5.2015863   1.42562267 19.90772965  2.1023796\n",
      "   2.48652368  3.01051491  4.88082985  5.42485023 10.38341466  9.75865257\n",
      "   0.66370174  0.08944272         inf  8.7879975 ]\n",
      " [ 2.24243172  4.10951335  4.06911538  1.4246754  12.69679093 10.37000482\n",
      "   9.4881505   2.12058954 13.94873471 10.16858397 27.80994426  7.48431026\n",
      "   7.23329109  7.39024357  8.49847045  3.4934367   1.87360615  1.54402073\n",
      "   9.43700164  8.85131064  8.7879975          inf]]\n"
     ]
    }
   ],
   "source": [
    "numVertices = len(points)\n",
    "graph = np.full((numVertices, numVertices), np.inf)\n",
    "\n",
    "for p in points:\n",
    "  for q in points:\n",
    "    if p.id != q.id:\n",
    "      graph[p.id][q.id] = p.distance(q)\n",
    "\n",
    "print(graph)\n"
   ]
  },
  {
   "cell_type": "code",
   "execution_count": 929,
   "metadata": {},
   "outputs": [],
   "source": [
    "# print('Branch and bound', branchAndBoundTSP(graph, numVertices))"
   ]
  },
  {
   "cell_type": "code",
   "execution_count": 930,
   "metadata": {},
   "outputs": [
    {
     "name": "stdout",
     "output_type": "stream",
     "text": [
      "Twice around the tree ([0, 7, 21, 3, 17, 16, 1, 2, 15, 12, 11, 6, 5, 18, 9, 8, 10, 19, 20, 13, 14, 4, 0], 88.04848334468727)\n"
     ]
    }
   ],
   "source": [
    "print(\"Twice around the tree\", approximateTwiceAroundTheTree(graph, numVertices))"
   ]
  },
  {
   "cell_type": "code",
   "execution_count": 931,
   "metadata": {},
   "outputs": [
    {
     "name": "stdout",
     "output_type": "stream",
     "text": [
      "Christofides ([0, 7, 21, 3, 17, 16, 1, 2, 10, 8, 9, 18, 6, 5, 11, 12, 4, 14, 13, 15, 19, 20, 0], 98.28858285156915)\n"
     ]
    }
   ],
   "source": [
    "print(\"Christofides\", christofides(graph, numVertices))"
   ]
  }
 ],
 "metadata": {
  "kernelspec": {
   "display_name": "Python 3",
   "language": "python",
   "name": "python3"
  },
  "language_info": {
   "codemirror_mode": {
    "name": "ipython",
    "version": 3
   },
   "file_extension": ".py",
   "mimetype": "text/x-python",
   "name": "python",
   "nbconvert_exporter": "python",
   "pygments_lexer": "ipython3",
   "version": "3.8.10"
  }
 },
 "nbformat": 4,
 "nbformat_minor": 2
}
